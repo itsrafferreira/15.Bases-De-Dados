{
 "cells": [
  {
   "cell_type": "markdown",
   "metadata": {},
   "source": [
    "# Exercícios Módulo 5. Bases de dados com SQLite (Soluções)\n",
    "\n",
    "Considerações a ter em conta:\n",
    "\n",
    "* Guardar este documento com o seguinte formato para entrega: M5_04_nome_apelido1_apelido2\n",
    "* Fazer os exercícios com as ferramentas vistas nas sessões. \n",
    "* Comentar o código\n",
    "* Utilizar nomes de variáveis apropriados, se vai guardar uma nota, chamar a essa variável nota, não n ou x"
   ]
  },
  {
   "cell_type": "markdown",
   "metadata": {},
   "source": [
    "**1) Praticar um pouco com SQLite:**\n",
    "\n",
    "* Criar uma base de dados que se chame biblioteca\n",
    "* Criar as seguintes tabelas (deverá colocar os tipos dos atributos com lógica, investigar quais há em SQLite para o poder fazer): \n",
    " * autor(bi, nome, apelidos, estarVivo)\n",
    "     * em bi pode colocar um número aleatório\n",
    " * livro(isbn, título, editorial, ano_escrito)  \n",
    "     * isnb = International Standard Book Number - Pode colocar um número aleatório\n",
    " * utilizador(bi, nome, apelidos, numEmpréstimos)\n",
    "     * em bi pode colocar um número aleatório\n",
    "* Inserir pelo menos 3 registos em cada uma das tabelas \n",
    " * Em autor, alguns vivos e outros mortos\n",
    " * Em livro, alguns com ano de escritura anterior a 1900 e outros depois \n",
    " * Em utilizador, alguns com mais de 10 empréstimos e outros com menos\n",
    "* Comprovar que tudo está correto com **DB Browser (SQLite)** \n",
    "* Fazer as seguintes consultas:\n",
    " * Listar a todos os autores \n",
    " * Listar todos os livros \n",
    " * Listar todos os utilizadores\n",
    " * Listar todos os autores que estejam vivos (CLAUSULA WHERE)\n",
    " * Listar todos os livros que tenham sido escritos posteriormente a 1900\n",
    " * Listar todos os utilizadores que se tenham levado mais de 10 livros e filtrar pelo nome\n",
    "\n"
   ]
  },
  {
   "cell_type": "code",
   "execution_count": 1,
   "metadata": {},
   "outputs": [
    {
     "name": "stdout",
     "output_type": "stream",
     "text": [
      "[(123, 'Joao', 'Silva', 1), (456, 'Maria', 'Santos', 0), (789, 'Pedro', 'Lopes', 1)]\n",
      "[(111, 'Livro1', 'Editorial1', 1890), (222, 'Livro2', 'Editorial2', 1910), (333, 'Livro3', 'Editorial3', 2000)]\n",
      "[(111, 'Antonio', 'Pereira', 5), (222, 'Ana', 'Carvalho', 15), (333, 'Manuel', 'Marques', 8)]\n",
      "[(123, 'Joao', 'Silva', 1), (789, 'Pedro', 'Lopes', 1)]\n",
      "[(222, 'Livro2', 'Editorial2', 1910), (333, 'Livro3', 'Editorial3', 2000)]\n",
      "[('Ana',)]\n"
     ]
    }
   ],
   "source": [
    "#Importar o módulo\n",
    "import sqlite3\n",
    "\n",
    "# Criar a conexão e o cursor\n",
    "conn = sqlite3.connect('biblioteca.db')\n",
    "c = conn.cursor()\n",
    "\n",
    "# Criar as tabelas\n",
    "c.execute('''CREATE TABLE autor (\n",
    "                bi INTEGER PRIMARY KEY,\n",
    "                nome TEXT,\n",
    "                apelidos TEXT,\n",
    "                estarVivo INTEGER)''')\n",
    "\n",
    "c.execute('''CREATE TABLE livro (\n",
    "                isbn INTEGER PRIMARY KEY,\n",
    "                título TEXT,\n",
    "                editorial TEXT,\n",
    "                ano_escrito INTEGER)''')\n",
    "\n",
    "c.execute('''CREATE TABLE utilizador (\n",
    "                bi INTEGER PRIMARY KEY,\n",
    "                nome TEXT,\n",
    "                apelidos TEXT,\n",
    "                numEmpréstimos INTEGER)''')\n",
    "\n",
    "# Inserir regitos nas tabelas\n",
    "c.execute(\"INSERT INTO autor (bi, nome, apelidos, estarVivo) VALUES (123, 'Joao', 'Silva', 1)\")\n",
    "c.execute(\"INSERT INTO autor (bi, nome, apelidos, estarVivo) VALUES (456, 'Rafael', 'Ferreira', 0)\")\n",
    "c.execute(\"INSERT INTO autor (bi, nome, apelidos, estarVivo) VALUES (789, 'Leonor', 'Santos', 1)\")\n",
    "\n",
    "c.execute(\"INSERT INTO livro (isbn, título, editorial, ano_escrito) VALUES (111, 'Livro1', 'Editorial1', 1895)\")\n",
    "c.execute(\"INSERT INTO livro (isbn, título, editorial, ano_escrito) VALUES (222, 'Livro2', 'Editorial2', 1912)\")\n",
    "c.execute(\"INSERT INTO livro (isbn, título, editorial, ano_escrito) VALUES (333, 'Livro3', 'Editorial3', 2009)\")\n",
    "\n",
    "c.execute(\"INSERT INTO utilizador (bi, nome, apelidos, numEmpréstimos) VALUES (111, 'Antonio', 'Pereira', 5)\")\n",
    "c.execute(\"INSERT INTO utilizador (bi, nome, apelidos, numEmpréstimos) VALUES (222, 'Ana', 'Lopes', 15)\")\n",
    "c.execute(\"INSERT INTO utilizador (bi, nome, apelidos, numEmpréstimos) VALUES (333, 'Manuel', 'Moreira', 8)\")\n",
    "\n",
    "# Guardar as alterações com commit e fechar a conexão\n",
    "conn.commit()\n",
    "conn.close()\n",
    "\n",
    "# Conectar de novo\n",
    "conn = sqlite3.connect('biblioteca.db')\n",
    "c = conn.cursor()\n",
    "\n",
    "# Consultar o banco de dados\n",
    "c.execute(\"SELECT * FROM autor\")\n",
    "print(c.fetchall())\n",
    "\n",
    "c.execute(\"SELECT * FROM livro\")\n",
    "print(c.fetchall())\n",
    "\n",
    "c.execute(\"SELECT * FROM utilizador\")\n",
    "print(c.fetchall())\n",
    "\n",
    "c.execute(\"SELECT * FROM autor WHERE estarVivo=1\")\n",
    "print(c.fetchall())\n",
    "\n",
    "c.execute(\"SELECT * FROM livro WHERE ano_escrito>1900\")\n",
    "print(c.fetchall())\n",
    "\n",
    "c.execute(\"SELECT nome FROM utilizador WHERE numEmpréstimos>10\")\n",
    "print(c.fetchall())\n",
    "\n",
    "# Fechar a conexão\n",
    "conn.close()"
   ]
  },
  {
   "cell_type": "code",
   "execution_count": null,
   "metadata": {},
   "outputs": [],
   "source": []
  }
 ],
 "metadata": {
  "anaconda-cloud": {},
  "kernelspec": {
   "display_name": "Python 3 (ipykernel)",
   "language": "python",
   "name": "python3"
  },
  "language_info": {
   "codemirror_mode": {
    "name": "ipython",
    "version": 3
   },
   "file_extension": ".py",
   "mimetype": "text/x-python",
   "name": "python",
   "nbconvert_exporter": "python",
   "pygments_lexer": "ipython3",
   "version": "3.11.5"
  }
 },
 "nbformat": 4,
 "nbformat_minor": 1
}
